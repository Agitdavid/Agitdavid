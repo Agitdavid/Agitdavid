{
 "cells": [
  {
   "cell_type": "markdown",
   "id": "cf954c54",
   "metadata": {
    "papermill": {
     "duration": 0.011397,
     "end_time": "2022-09-26T07:44:51.268816",
     "exception": false,
     "start_time": "2022-09-26T07:44:51.257419",
     "status": "completed"
    },
    "tags": []
   },
   "source": [
    "\n",
    "\n",
    "# Project: No-Show Appointments Analysis\n",
    "\n",
    "## Table of Contents\n",
    "<ul>\n",
    "<li><a href=\"#intro\">Introduction</a></li>\n",
    "<li><a href=\"#wrangling\">Data Wrangling</a></li>\n",
    "<li><a href=\"#eda\">Exploratory Data Analysis</a></li>\n",
    "<li><a href=\"#conclusions\">Conclusions</a></li>\n",
    "</ul>"
   ]
  },
  {
   "cell_type": "markdown",
   "id": "6216b8a0",
   "metadata": {
    "papermill": {
     "duration": 0.01013,
     "end_time": "2022-09-26T07:44:51.289993",
     "exception": false,
     "start_time": "2022-09-26T07:44:51.279863",
     "status": "completed"
    },
    "tags": []
   },
   "source": [
    "<a id='intro'></a>\n",
    "## Introduction\n",
    "\n",
    "### Dataset Description \n",
    "\n",
    "> In this project i am going to work with the No-Show Appointments Dataset. The dataset collects medical appointments information of 100k Brazilians patients. The focus is on whether the patients show up for their appointments or not?\n",
    "The dataset consists of 14 columns and 110527 rows. The columns show:\n",
    "   <ol>\n",
    "    <li> PatientId:         this column is used to identify the patient.</li>\n",
    "    <li>AppointmentID:     this column is used to uniquely recognize the appointments per patient </li>\n",
    "    <li>AppointmentID:     this column is used to uniquely recognize the appointments per patient</li>\n",
    "    <li>Gender:            this is the sex of each patient.</li>\n",
    "    <li>ScheduledDay:      tells us on what day the patient set up their appointment.</li>\n",
    "    <li>AppointmentDay:    tells us on what day the appointment was made.</li>\n",
    "    <li>Age:               defines the age of each patient.</li>\n",
    "    <li>Neighbourhood:    indicates the location of the hospital.</li>\n",
    "    <li>Scholarship:       indicates whether or not the patient is enrolled in Brasilian welfare program Bolsa Família.</li>\n",
    "    <li>Hipertension:      True or False </li>\n",
    "    <li>Diabetes:          True or False  </li>\n",
    "    <li>Alcoholism:       True or False </li>\n",
    "    <li>Handcap :          True or False </li>\n",
    "    <li>SMS_received:      True or False </li>\n",
    "    <li>No-show :          this column tells us whether the patient showed up or not?</li>\n",
    "</ol>\n",
    " \n",
    "\n",
    "\n",
    "### Project Questions\n",
    "><p>What is the relationship between those who attended and not attended their appointments?</p>\n",
    " <p>What gender highly shows up for the appointments?</p>\n",
    " <p>Which age highly shows up for appointments?</p>\n",
    " <p>Which disease has the highest incident rate?</p>\n"
   ]
  },
  {
   "cell_type": "code",
   "execution_count": 1,
   "id": "a7ebd9af",
   "metadata": {
    "execution": {
     "iopub.execute_input": "2022-09-26T07:44:51.313905Z",
     "iopub.status.busy": "2022-09-26T07:44:51.312474Z",
     "iopub.status.idle": "2022-09-26T07:44:52.217749Z",
     "shell.execute_reply": "2022-09-26T07:44:52.216167Z"
    },
    "papermill": {
     "duration": 0.919096,
     "end_time": "2022-09-26T07:44:52.219432",
     "exception": true,
     "start_time": "2022-09-26T07:44:51.300336",
     "status": "failed"
    },
    "tags": []
   },
   "outputs": [
    {
     "name": "stderr",
     "output_type": "stream",
     "text": [
      "UsageError: Line magic function `%` not found.\n"
     ]
    }
   ],
   "source": [
    "# imports\n",
    "import pandas as pd\n",
    "import numpy as np\n",
    "import matplotlib.pyplot as plt \n",
    "import seaborn as sns\n",
    "% matplotlib inline\n",
    "\n"
   ]
  },
  {
   "cell_type": "code",
   "execution_count": null,
   "id": "d4b795cb",
   "metadata": {
    "execution": {
     "iopub.status.busy": "2022-08-10T07:57:19.339268Z",
     "iopub.status.idle": "2022-08-10T07:57:19.340205Z",
     "shell.execute_reply": "2022-08-10T07:57:19.339934Z",
     "shell.execute_reply.started": "2022-08-10T07:57:19.339903Z"
    },
    "papermill": {
     "duration": null,
     "end_time": null,
     "exception": null,
     "start_time": null,
     "status": "pending"
    },
    "tags": []
   },
   "outputs": [],
   "source": [
    "# loading datasets\n",
    "df = pd.read_csv('noshowappointments-kagglev2-may-2016.csv',)\n",
    "df.head(1)"
   ]
  },
  {
   "cell_type": "markdown",
   "id": "05d18baa",
   "metadata": {
    "papermill": {
     "duration": null,
     "end_time": null,
     "exception": null,
     "start_time": null,
     "status": "pending"
    },
    "tags": []
   },
   "source": [
    "<a id='wrangling'></a>\n",
    "## Data Wrangling\n",
    "\n",
    "\n",
    "\n",
    "\n",
    "### General Properties"
   ]
  },
  {
   "cell_type": "code",
   "execution_count": null,
   "id": "f1a6b77d",
   "metadata": {
    "execution": {
     "iopub.status.busy": "2022-08-10T07:57:19.341776Z",
     "iopub.status.idle": "2022-08-10T07:57:19.342898Z",
     "shell.execute_reply": "2022-08-10T07:57:19.342549Z",
     "shell.execute_reply.started": "2022-08-10T07:57:19.342520Z"
    },
    "papermill": {
     "duration": null,
     "end_time": null,
     "exception": null,
     "start_time": null,
     "status": "pending"
    },
    "tags": []
   },
   "outputs": [],
   "source": [
    "# loading of the datasets\n",
    "df = pd.read_csv('noshowappointments-kagglev2-may-2016.csv',)\n",
    "df.head()"
   ]
  },
  {
   "cell_type": "code",
   "execution_count": null,
   "id": "16f32c20",
   "metadata": {
    "execution": {
     "iopub.status.busy": "2022-08-10T07:57:19.345071Z",
     "iopub.status.idle": "2022-08-10T07:57:19.346006Z",
     "shell.execute_reply": "2022-08-10T07:57:19.345662Z",
     "shell.execute_reply.started": "2022-08-10T07:57:19.345633Z"
    },
    "papermill": {
     "duration": null,
     "end_time": null,
     "exception": null,
     "start_time": null,
     "status": "pending"
    },
    "tags": []
   },
   "outputs": [],
   "source": [
    "#the last 20 rows of the dataset\n",
    "df.tail(20)"
   ]
  },
  {
   "cell_type": "code",
   "execution_count": null,
   "id": "310d0872",
   "metadata": {
    "execution": {
     "iopub.status.busy": "2022-08-10T07:57:19.347856Z",
     "iopub.status.idle": "2022-08-10T07:57:19.348711Z",
     "shell.execute_reply": "2022-08-10T07:57:19.348439Z",
     "shell.execute_reply.started": "2022-08-10T07:57:19.348410Z"
    },
    "papermill": {
     "duration": null,
     "end_time": null,
     "exception": null,
     "start_time": null,
     "status": "pending"
    },
    "tags": []
   },
   "outputs": [],
   "source": [
    "# showing the dataframe size\n",
    "df.shape"
   ]
  },
  {
   "cell_type": "code",
   "execution_count": null,
   "id": "ad1850ed",
   "metadata": {
    "execution": {
     "iopub.status.busy": "2022-08-10T07:57:19.350297Z",
     "iopub.status.idle": "2022-08-10T07:57:19.350875Z",
     "shell.execute_reply": "2022-08-10T07:57:19.350594Z",
     "shell.execute_reply.started": "2022-08-10T07:57:19.350569Z"
    },
    "papermill": {
     "duration": null,
     "end_time": null,
     "exception": null,
     "start_time": null,
     "status": "pending"
    },
    "tags": []
   },
   "outputs": [],
   "source": [
    "# checking for duplicates in the dataset\n",
    "df.duplicated().sum()"
   ]
  },
  {
   "cell_type": "code",
   "execution_count": null,
   "id": "c24f2630",
   "metadata": {
    "execution": {
     "iopub.status.busy": "2022-08-10T07:57:19.352977Z",
     "iopub.status.idle": "2022-08-10T07:57:19.353527Z",
     "shell.execute_reply": "2022-08-10T07:57:19.353277Z",
     "shell.execute_reply.started": "2022-08-10T07:57:19.353249Z"
    },
    "papermill": {
     "duration": null,
     "end_time": null,
     "exception": null,
     "start_time": null,
     "status": "pending"
    },
    "tags": []
   },
   "outputs": [],
   "source": [
    "# checking for missing values\n",
    "df.isnull().sum().any()"
   ]
  },
  {
   "cell_type": "code",
   "execution_count": null,
   "id": "5d1e5092",
   "metadata": {
    "execution": {
     "iopub.status.busy": "2022-08-10T07:57:19.355120Z",
     "iopub.status.idle": "2022-08-10T07:57:19.355692Z",
     "shell.execute_reply": "2022-08-10T07:57:19.355416Z",
     "shell.execute_reply.started": "2022-08-10T07:57:19.355389Z"
    },
    "papermill": {
     "duration": null,
     "end_time": null,
     "exception": null,
     "start_time": null,
     "status": "pending"
    },
    "tags": []
   },
   "outputs": [],
   "source": [
    "df.describe()"
   ]
  },
  {
   "cell_type": "code",
   "execution_count": null,
   "id": "a8216488",
   "metadata": {
    "execution": {
     "iopub.status.busy": "2022-08-10T07:57:19.357524Z",
     "iopub.status.idle": "2022-08-10T07:57:19.358160Z",
     "shell.execute_reply": "2022-08-10T07:57:19.357863Z",
     "shell.execute_reply.started": "2022-08-10T07:57:19.357807Z"
    },
    "papermill": {
     "duration": null,
     "end_time": null,
     "exception": null,
     "start_time": null,
     "status": "pending"
    },
    "tags": []
   },
   "outputs": [],
   "source": [
    "df.info()"
   ]
  },
  {
   "cell_type": "code",
   "execution_count": null,
   "id": "8b6e0095",
   "metadata": {
    "execution": {
     "iopub.status.busy": "2022-08-10T07:57:19.360254Z",
     "iopub.status.idle": "2022-08-10T07:57:19.360896Z",
     "shell.execute_reply": "2022-08-10T07:57:19.360562Z",
     "shell.execute_reply.started": "2022-08-10T07:57:19.360534Z"
    },
    "papermill": {
     "duration": null,
     "end_time": null,
     "exception": null,
     "start_time": null,
     "status": "pending"
    },
    "tags": []
   },
   "outputs": [],
   "source": [
    "# unique values in each columns\n",
    "df.nunique()"
   ]
  },
  {
   "cell_type": "code",
   "execution_count": null,
   "id": "6dfea782",
   "metadata": {
    "execution": {
     "iopub.status.busy": "2022-08-10T07:57:19.363303Z",
     "iopub.status.idle": "2022-08-10T07:57:19.363725Z",
     "shell.execute_reply": "2022-08-10T07:57:19.363539Z",
     "shell.execute_reply.started": "2022-08-10T07:57:19.363520Z"
    },
    "papermill": {
     "duration": null,
     "end_time": null,
     "exception": null,
     "start_time": null,
     "status": "pending"
    },
    "tags": []
   },
   "outputs": [],
   "source": [
    "df.Gender.value_counts()"
   ]
  },
  {
   "cell_type": "code",
   "execution_count": null,
   "id": "1732b3cc",
   "metadata": {
    "execution": {
     "iopub.status.busy": "2022-08-10T07:57:19.367082Z",
     "iopub.status.idle": "2022-08-10T07:57:19.367551Z",
     "shell.execute_reply": "2022-08-10T07:57:19.367359Z",
     "shell.execute_reply.started": "2022-08-10T07:57:19.367339Z"
    },
    "papermill": {
     "duration": null,
     "end_time": null,
     "exception": null,
     "start_time": null,
     "status": "pending"
    },
    "tags": []
   },
   "outputs": [],
   "source": [
    "# age should not be less than 1 and so we highlight the row\n",
    "df.query('Age==-1')"
   ]
  },
  {
   "cell_type": "markdown",
   "id": "381676b0",
   "metadata": {
    "papermill": {
     "duration": null,
     "end_time": null,
     "exception": null,
     "start_time": null,
     "status": "pending"
    },
    "tags": []
   },
   "source": [
    "\n",
    "### Data Cleaning\n"
   ]
  },
  {
   "cell_type": "code",
   "execution_count": null,
   "id": "03c1acbc",
   "metadata": {
    "execution": {
     "iopub.status.busy": "2022-08-10T07:57:19.369127Z",
     "iopub.status.idle": "2022-08-10T07:57:19.369654Z",
     "shell.execute_reply": "2022-08-10T07:57:19.369390Z",
     "shell.execute_reply.started": "2022-08-10T07:57:19.369370Z"
    },
    "papermill": {
     "duration": null,
     "end_time": null,
     "exception": null,
     "start_time": null,
     "status": "pending"
    },
    "tags": []
   },
   "outputs": [],
   "source": [
    "# drop colums that won't be necessary for the study\n",
    "# drop columns PatientId, AppointmentID\n",
    "df.drop(['PatientId', 'AppointmentID'], axis=1, inplace=True)\n"
   ]
  },
  {
   "cell_type": "code",
   "execution_count": null,
   "id": "b77ff8d7",
   "metadata": {
    "execution": {
     "iopub.status.busy": "2022-08-10T07:57:19.371447Z",
     "iopub.status.idle": "2022-08-10T07:57:19.371894Z",
     "shell.execute_reply": "2022-08-10T07:57:19.371685Z",
     "shell.execute_reply.started": "2022-08-10T07:57:19.371665Z"
    },
    "papermill": {
     "duration": null,
     "end_time": null,
     "exception": null,
     "start_time": null,
     "status": "pending"
    },
    "scrolled": true,
    "tags": []
   },
   "outputs": [],
   "source": [
    "# confirm changes\n",
    "df.head(1)"
   ]
  },
  {
   "cell_type": "code",
   "execution_count": null,
   "id": "83f4c866",
   "metadata": {
    "execution": {
     "iopub.status.busy": "2022-08-10T07:57:19.373557Z",
     "iopub.status.idle": "2022-08-10T07:57:19.374322Z",
     "shell.execute_reply": "2022-08-10T07:57:19.374132Z",
     "shell.execute_reply.started": "2022-08-10T07:57:19.374110Z"
    },
    "papermill": {
     "duration": null,
     "end_time": null,
     "exception": null,
     "start_time": null,
     "status": "pending"
    },
    "tags": []
   },
   "outputs": [],
   "source": [
    "# change column names to lowercase and - to _ for consistency in the code\n",
    "df.rename(columns=lambda x: x.strip().lower().replace(\"-\", \"_\"), inplace=True)\n"
   ]
  },
  {
   "cell_type": "code",
   "execution_count": null,
   "id": "9fb3f2f0",
   "metadata": {
    "execution": {
     "iopub.status.busy": "2022-08-10T07:57:19.376295Z",
     "iopub.status.idle": "2022-08-10T07:57:19.376707Z",
     "shell.execute_reply": "2022-08-10T07:57:19.376537Z",
     "shell.execute_reply.started": "2022-08-10T07:57:19.376518Z"
    },
    "papermill": {
     "duration": null,
     "end_time": null,
     "exception": null,
     "start_time": null,
     "status": "pending"
    },
    "tags": []
   },
   "outputs": [],
   "source": [
    "df.head()"
   ]
  },
  {
   "cell_type": "code",
   "execution_count": null,
   "id": "3708b1d7",
   "metadata": {
    "execution": {
     "iopub.status.busy": "2022-08-10T07:57:19.378152Z",
     "iopub.status.idle": "2022-08-10T07:57:19.379059Z",
     "shell.execute_reply": "2022-08-10T07:57:19.378812Z",
     "shell.execute_reply.started": "2022-08-10T07:57:19.378789Z"
    },
    "papermill": {
     "duration": null,
     "end_time": null,
     "exception": null,
     "start_time": null,
     "status": "pending"
    },
    "tags": []
   },
   "outputs": [],
   "source": [
    "# introduce _day to scheduledday appointmentday\n",
    "df.rename(columns=lambda x: x.strip().lower().replace(\"day\", \"_day\"), inplace=True)"
   ]
  },
  {
   "cell_type": "code",
   "execution_count": null,
   "id": "4705c4b5",
   "metadata": {
    "execution": {
     "iopub.status.busy": "2022-08-10T07:57:19.381204Z",
     "iopub.status.idle": "2022-08-10T07:57:19.381704Z",
     "shell.execute_reply": "2022-08-10T07:57:19.381520Z",
     "shell.execute_reply.started": "2022-08-10T07:57:19.381496Z"
    },
    "papermill": {
     "duration": null,
     "end_time": null,
     "exception": null,
     "start_time": null,
     "status": "pending"
    },
    "tags": []
   },
   "outputs": [],
   "source": [
    "# correct misspelt column name handap to handicap and hipertension to hypertension\n",
    "df.rename(columns={'handcap' : 'handicap', 'hipertension':'hypertension'}, inplace=True)"
   ]
  },
  {
   "cell_type": "code",
   "execution_count": null,
   "id": "6bf0002f",
   "metadata": {
    "execution": {
     "iopub.status.busy": "2022-08-10T07:57:19.383142Z",
     "iopub.status.idle": "2022-08-10T07:57:19.386039Z",
     "shell.execute_reply": "2022-08-10T07:57:19.385697Z",
     "shell.execute_reply.started": "2022-08-10T07:57:19.385666Z"
    },
    "papermill": {
     "duration": null,
     "end_time": null,
     "exception": null,
     "start_time": null,
     "status": "pending"
    },
    "tags": []
   },
   "outputs": [],
   "source": [
    "# confirm changes\n",
    "df.head(1)"
   ]
  },
  {
   "cell_type": "code",
   "execution_count": null,
   "id": "329b2bdb",
   "metadata": {
    "execution": {
     "iopub.status.busy": "2022-08-10T07:57:19.387795Z",
     "iopub.status.idle": "2022-08-10T07:57:19.388423Z",
     "shell.execute_reply": "2022-08-10T07:57:19.388161Z",
     "shell.execute_reply.started": "2022-08-10T07:57:19.388116Z"
    },
    "papermill": {
     "duration": null,
     "end_time": null,
     "exception": null,
     "start_time": null,
     "status": "pending"
    },
    "tags": []
   },
   "outputs": [],
   "source": [
    "# drop ow with age less than 1\n",
    "df.drop(labels=99832, axis=0, inplace=True)"
   ]
  },
  {
   "cell_type": "code",
   "execution_count": null,
   "id": "d9ab614b",
   "metadata": {
    "execution": {
     "iopub.status.busy": "2022-08-10T07:57:19.390210Z",
     "iopub.status.idle": "2022-08-10T07:57:19.390789Z",
     "shell.execute_reply": "2022-08-10T07:57:19.390529Z",
     "shell.execute_reply.started": "2022-08-10T07:57:19.390500Z"
    },
    "papermill": {
     "duration": null,
     "end_time": null,
     "exception": null,
     "start_time": null,
     "status": "pending"
    },
    "tags": []
   },
   "outputs": [],
   "source": [
    "# confirm changes\n",
    "df.query('age==-1')"
   ]
  },
  {
   "cell_type": "code",
   "execution_count": null,
   "id": "b75e2bed",
   "metadata": {
    "execution": {
     "iopub.status.busy": "2022-08-10T07:57:19.392493Z",
     "iopub.status.idle": "2022-08-10T07:57:19.393086Z",
     "shell.execute_reply": "2022-08-10T07:57:19.392798Z",
     "shell.execute_reply.started": "2022-08-10T07:57:19.392771Z"
    },
    "papermill": {
     "duration": null,
     "end_time": null,
     "exception": null,
     "start_time": null,
     "status": "pending"
    },
    "tags": []
   },
   "outputs": [],
   "source": [
    "df.hist(figsize=(10,8))"
   ]
  },
  {
   "cell_type": "markdown",
   "id": "02061c4b",
   "metadata": {
    "papermill": {
     "duration": null,
     "end_time": null,
     "exception": null,
     "start_time": null,
     "status": "pending"
    },
    "tags": []
   },
   "source": [
    "<a id='eda'></a>\n",
    "## Exploratory Data Analysis\n",
    "\n",
    "\n",
    "\n",
    "### 1. What is the relationship between those who attended and not attended their appointments?"
   ]
  },
  {
   "cell_type": "code",
   "execution_count": null,
   "id": "25fc6965",
   "metadata": {
    "execution": {
     "iopub.status.busy": "2022-08-10T07:57:19.395491Z",
     "iopub.status.idle": "2022-08-10T07:57:19.396222Z",
     "shell.execute_reply": "2022-08-10T07:57:19.395939Z",
     "shell.execute_reply.started": "2022-08-10T07:57:19.395769Z"
    },
    "papermill": {
     "duration": null,
     "end_time": null,
     "exception": null,
     "start_time": null,
     "status": "pending"
    },
    "tags": []
   },
   "outputs": [],
   "source": [
    "# function for getting percentages in integer daya type\n",
    "def percentage_calculation(n):\n",
    "    Total= 110527\n",
    "    percent =(n/Total)*100\n",
    "    return int(percent)\n"
   ]
  },
  {
   "cell_type": "code",
   "execution_count": null,
   "id": "b6e513a5",
   "metadata": {
    "execution": {
     "iopub.status.busy": "2022-08-10T07:57:19.398462Z",
     "iopub.status.idle": "2022-08-10T07:57:19.399077Z",
     "shell.execute_reply": "2022-08-10T07:57:19.398767Z",
     "shell.execute_reply.started": "2022-08-10T07:57:19.398741Z"
    },
    "papermill": {
     "duration": null,
     "end_time": null,
     "exception": null,
     "start_time": null,
     "status": "pending"
    },
    "tags": []
   },
   "outputs": [],
   "source": [
    "# making masks for the attended and not_attended\n",
    "attended = df.no_show=='No'\n",
    "not_attended = df.no_show=='Yes'"
   ]
  },
  {
   "cell_type": "code",
   "execution_count": null,
   "id": "660fdd4f",
   "metadata": {
    "execution": {
     "iopub.status.busy": "2022-08-10T07:57:19.402354Z",
     "iopub.status.idle": "2022-08-10T07:57:19.402745Z",
     "shell.execute_reply": "2022-08-10T07:57:19.402579Z",
     "shell.execute_reply.started": "2022-08-10T07:57:19.402561Z"
    },
    "papermill": {
     "duration": null,
     "end_time": null,
     "exception": null,
     "start_time": null,
     "status": "pending"
    },
    "tags": []
   },
   "outputs": [],
   "source": [
    "# the relationship between the attended and non- attended\n",
    "attended = (df['no_show']=='No').sum()\n",
    "not_attended = (df['no_show']=='Yes').sum()\n",
    "value = [attended, not_attended]\n",
    "label = ('show up patients','no show patients ')\n",
    "\n",
    "plt.pie(value, labels = label, autopct= '%.1f%%')\n",
    "plt.title('Percentage of no-show patients')\n",
    "plt.figure(figsize=(10,10))\n",
    "plt.show()"
   ]
  },
  {
   "cell_type": "markdown",
   "id": "bf2248d0",
   "metadata": {
    "papermill": {
     "duration": null,
     "end_time": null,
     "exception": null,
     "start_time": null,
     "status": "pending"
    },
    "tags": []
   },
   "source": [
    "><p>We can see that many patients showed up for their appointments opposed to those who missed</p>"
   ]
  },
  {
   "cell_type": "markdown",
   "id": "80af365a",
   "metadata": {
    "papermill": {
     "duration": null,
     "end_time": null,
     "exception": null,
     "start_time": null,
     "status": "pending"
    },
    "tags": []
   },
   "source": [
    "## 2. What gender highly shows up for the appointments?"
   ]
  },
  {
   "cell_type": "code",
   "execution_count": null,
   "id": "32f728e9",
   "metadata": {
    "execution": {
     "iopub.status.busy": "2022-08-10T07:57:19.404278Z",
     "iopub.status.idle": "2022-08-10T07:57:19.404779Z",
     "shell.execute_reply": "2022-08-10T07:57:19.404595Z",
     "shell.execute_reply.started": "2022-08-10T07:57:19.404575Z"
    },
    "papermill": {
     "duration": null,
     "end_time": null,
     "exception": null,
     "start_time": null,
     "status": "pending"
    },
    "tags": []
   },
   "outputs": [],
   "source": [
    "df.gender.value_counts()"
   ]
  },
  {
   "cell_type": "code",
   "execution_count": null,
   "id": "e5394c66",
   "metadata": {
    "execution": {
     "iopub.status.busy": "2022-08-10T07:57:19.406791Z",
     "iopub.status.idle": "2022-08-10T07:57:19.407579Z",
     "shell.execute_reply": "2022-08-10T07:57:19.407391Z",
     "shell.execute_reply.started": "2022-08-10T07:57:19.407370Z"
    },
    "papermill": {
     "duration": null,
     "end_time": null,
     "exception": null,
     "start_time": null,
     "status": "pending"
    },
    "tags": []
   },
   "outputs": [],
   "source": [
    "sns.countplot(x ='no_show',hue='gender', data = df)\n",
    "plt.xlabel('Distribution of No show appointment') \n",
    "plt.ylabel('No. of Patients')\n",
    "plt.title(\"Gender Distribution for No Show\")# title\n",
    "plt.legend()\n",
    "plt.show()"
   ]
  },
  {
   "cell_type": "markdown",
   "id": "f9cf0502",
   "metadata": {
    "papermill": {
     "duration": null,
     "end_time": null,
     "exception": null,
     "start_time": null,
     "status": "pending"
    },
    "tags": []
   },
   "source": [
    "><p>Many females visited the neighbourhoods unlike men. The number of females who showed up was also higher as compared to their male counterparts</p>"
   ]
  },
  {
   "cell_type": "code",
   "execution_count": null,
   "id": "a7abed64",
   "metadata": {
    "execution": {
     "iopub.status.busy": "2022-08-10T07:57:19.408958Z",
     "iopub.status.idle": "2022-08-10T07:57:19.409363Z",
     "shell.execute_reply": "2022-08-10T07:57:19.409182Z",
     "shell.execute_reply.started": "2022-08-10T07:57:19.409163Z"
    },
    "papermill": {
     "duration": null,
     "end_time": null,
     "exception": null,
     "start_time": null,
     "status": "pending"
    },
    "tags": []
   },
   "outputs": [],
   "source": [
    "# the count for the gender distribution\n",
    "df.groupby(['no_show'])['gender'].value_counts()"
   ]
  },
  {
   "cell_type": "code",
   "execution_count": null,
   "id": "d5a6cbf9",
   "metadata": {
    "execution": {
     "iopub.status.busy": "2022-08-10T07:57:19.413002Z",
     "iopub.status.idle": "2022-08-10T07:57:19.413437Z",
     "shell.execute_reply": "2022-08-10T07:57:19.413252Z",
     "shell.execute_reply.started": "2022-08-10T07:57:19.413232Z"
    },
    "papermill": {
     "duration": null,
     "end_time": null,
     "exception": null,
     "start_time": null,
     "status": "pending"
    },
    "tags": []
   },
   "outputs": [],
   "source": [
    "# percentage of women who had appointments\n",
    "percentage_calculation(57245+14594)"
   ]
  },
  {
   "cell_type": "code",
   "execution_count": null,
   "id": "2cd43607",
   "metadata": {
    "execution": {
     "iopub.status.busy": "2022-08-10T07:57:19.415176Z",
     "iopub.status.idle": "2022-08-10T07:57:19.415594Z",
     "shell.execute_reply": "2022-08-10T07:57:19.415423Z",
     "shell.execute_reply.started": "2022-08-10T07:57:19.415403Z"
    },
    "papermill": {
     "duration": null,
     "end_time": null,
     "exception": null,
     "start_time": null,
     "status": "pending"
    },
    "tags": []
   },
   "outputs": [],
   "source": [
    "# perentage of men\n",
    "percentage_calculation(30962+7725)"
   ]
  },
  {
   "cell_type": "code",
   "execution_count": null,
   "id": "daf32ab1",
   "metadata": {
    "execution": {
     "iopub.status.busy": "2022-08-10T07:57:19.416979Z",
     "iopub.status.idle": "2022-08-10T07:57:19.417381Z",
     "shell.execute_reply": "2022-08-10T07:57:19.417198Z",
     "shell.execute_reply.started": "2022-08-10T07:57:19.417180Z"
    },
    "papermill": {
     "duration": null,
     "end_time": null,
     "exception": null,
     "start_time": null,
     "status": "pending"
    },
    "tags": []
   },
   "outputs": [],
   "source": [
    "# percentage of women that showed up\n",
    "percentage_calculation(57245)"
   ]
  },
  {
   "cell_type": "code",
   "execution_count": null,
   "id": "f697e999",
   "metadata": {
    "execution": {
     "iopub.status.busy": "2022-08-10T07:57:19.418353Z",
     "iopub.status.idle": "2022-08-10T07:57:19.418715Z",
     "shell.execute_reply": "2022-08-10T07:57:19.418557Z",
     "shell.execute_reply.started": "2022-08-10T07:57:19.418540Z"
    },
    "papermill": {
     "duration": null,
     "end_time": null,
     "exception": null,
     "start_time": null,
     "status": "pending"
    },
    "tags": []
   },
   "outputs": [],
   "source": [
    "# percentage of men that showed up\n",
    "percentage_calculation(30962)"
   ]
  },
  {
   "cell_type": "markdown",
   "id": "fa7ddf19",
   "metadata": {
    "papermill": {
     "duration": null,
     "end_time": null,
     "exception": null,
     "start_time": null,
     "status": "pending"
    },
    "tags": []
   },
   "source": [
    "### 3. Which age highly shows up for appointments?"
   ]
  },
  {
   "cell_type": "code",
   "execution_count": null,
   "id": "a0d8b2f0",
   "metadata": {
    "execution": {
     "iopub.status.busy": "2022-08-10T07:57:19.420014Z",
     "iopub.status.idle": "2022-08-10T07:57:19.420384Z",
     "shell.execute_reply": "2022-08-10T07:57:19.420223Z",
     "shell.execute_reply.started": "2022-08-10T07:57:19.420206Z"
    },
    "papermill": {
     "duration": null,
     "end_time": null,
     "exception": null,
     "start_time": null,
     "status": "pending"
    },
    "tags": []
   },
   "outputs": [],
   "source": [
    "# box distribution for age\n",
    "df['age'].plot(kind = 'box') \n",
    "plt.ylabel('Age Range')\n",
    "plt.title(\"Distribution of Age\");"
   ]
  },
  {
   "cell_type": "markdown",
   "id": "1469059e",
   "metadata": {
    "papermill": {
     "duration": null,
     "end_time": null,
     "exception": null,
     "start_time": null,
     "status": "pending"
    },
    "tags": []
   },
   "source": [
    "><p>The age ranged from 0 to 100 with many patients being of ages between 20-60</p>"
   ]
  },
  {
   "cell_type": "code",
   "execution_count": null,
   "id": "4348098c",
   "metadata": {
    "execution": {
     "iopub.status.busy": "2022-08-10T07:57:19.421674Z",
     "iopub.status.idle": "2022-08-10T07:57:19.422100Z",
     "shell.execute_reply": "2022-08-10T07:57:19.421917Z",
     "shell.execute_reply.started": "2022-08-10T07:57:19.421896Z"
    },
    "papermill": {
     "duration": null,
     "end_time": null,
     "exception": null,
     "start_time": null,
     "status": "pending"
    },
    "tags": []
   },
   "outputs": [],
   "source": [
    "# grouping the Ages into clusters for better distribution\n",
    "levels = [0,18,36,60,100]\n",
    "\n",
    "# labelling the nage levels\n",
    "level_name= ['Children', 'Teenagers', 'Adult', 'Aged']"
   ]
  },
  {
   "cell_type": "code",
   "execution_count": null,
   "id": "ef267da0",
   "metadata": {
    "execution": {
     "iopub.status.busy": "2022-08-10T07:57:19.424313Z",
     "iopub.status.idle": "2022-08-10T07:57:19.424719Z",
     "shell.execute_reply": "2022-08-10T07:57:19.424547Z",
     "shell.execute_reply.started": "2022-08-10T07:57:19.424527Z"
    },
    "papermill": {
     "duration": null,
     "end_time": null,
     "exception": null,
     "start_time": null,
     "status": "pending"
    },
    "tags": []
   },
   "outputs": [],
   "source": [
    "# adding the range to the column\n",
    "df['age_range'] = pd.cut(df['age'], levels, labels=level_name)"
   ]
  },
  {
   "cell_type": "code",
   "execution_count": null,
   "id": "367dffe1",
   "metadata": {
    "execution": {
     "iopub.status.busy": "2022-08-10T07:57:19.427130Z",
     "iopub.status.idle": "2022-08-10T07:57:19.427546Z",
     "shell.execute_reply": "2022-08-10T07:57:19.427367Z",
     "shell.execute_reply.started": "2022-08-10T07:57:19.427348Z"
    },
    "papermill": {
     "duration": null,
     "end_time": null,
     "exception": null,
     "start_time": null,
     "status": "pending"
    },
    "tags": []
   },
   "outputs": [],
   "source": [
    "# confirm changes\n",
    "df.head(1)"
   ]
  },
  {
   "cell_type": "code",
   "execution_count": null,
   "id": "a5852c93",
   "metadata": {
    "execution": {
     "iopub.status.busy": "2022-08-10T07:57:19.428614Z",
     "iopub.status.idle": "2022-08-10T07:57:19.429070Z",
     "shell.execute_reply": "2022-08-10T07:57:19.428866Z",
     "shell.execute_reply.started": "2022-08-10T07:57:19.428822Z"
    },
    "papermill": {
     "duration": null,
     "end_time": null,
     "exception": null,
     "start_time": null,
     "status": "pending"
    },
    "tags": []
   },
   "outputs": [],
   "source": [
    "# count plot for age_range\n",
    "sns.countplot(x ='no_show', hue = \"age_range\", data = df)\n",
    "plt.xlabel('Distribution for No show appointment') \n",
    "plt.ylabel('No. of Patients')\n",
    "plt.title(\"Age Range Distribution for No Show\")"
   ]
  },
  {
   "cell_type": "markdown",
   "id": "89d6e1ff",
   "metadata": {
    "papermill": {
     "duration": null,
     "end_time": null,
     "exception": null,
     "start_time": null,
     "status": "pending"
    },
    "tags": []
   },
   "source": [
    "><p>The number of children and teenagers who showed up was almost similar. Most of the adults and the aged purposed to attend their appointments as opposed to the young</p>"
   ]
  },
  {
   "cell_type": "markdown",
   "id": "657e587f",
   "metadata": {
    "papermill": {
     "duration": null,
     "end_time": null,
     "exception": null,
     "start_time": null,
     "status": "pending"
    },
    "tags": []
   },
   "source": [
    "## 4. Which disease has the highest incident rate?"
   ]
  },
  {
   "cell_type": "code",
   "execution_count": null,
   "id": "7f9cdc44",
   "metadata": {
    "execution": {
     "iopub.status.busy": "2022-08-10T07:57:19.431220Z",
     "iopub.status.idle": "2022-08-10T07:57:19.431604Z",
     "shell.execute_reply": "2022-08-10T07:57:19.431429Z",
     "shell.execute_reply.started": "2022-08-10T07:57:19.431411Z"
    },
    "papermill": {
     "duration": null,
     "end_time": null,
     "exception": null,
     "start_time": null,
     "status": "pending"
    },
    "tags": []
   },
   "outputs": [],
   "source": [
    "hypertension_proportion = df.hypertension.mean()*100\n",
    "hypertension_proportion"
   ]
  },
  {
   "cell_type": "code",
   "execution_count": null,
   "id": "2c799bcb",
   "metadata": {
    "execution": {
     "iopub.status.busy": "2022-08-10T07:57:19.434557Z",
     "iopub.status.idle": "2022-08-10T07:57:19.435064Z",
     "shell.execute_reply": "2022-08-10T07:57:19.434817Z",
     "shell.execute_reply.started": "2022-08-10T07:57:19.434797Z"
    },
    "papermill": {
     "duration": null,
     "end_time": null,
     "exception": null,
     "start_time": null,
     "status": "pending"
    },
    "tags": []
   },
   "outputs": [],
   "source": [
    "alcoholism_proportion = df.alcoholism.mean()*100\n",
    "alcoholism_proportion"
   ]
  },
  {
   "cell_type": "code",
   "execution_count": null,
   "id": "6e6cc267",
   "metadata": {
    "execution": {
     "iopub.status.busy": "2022-08-10T07:57:19.436315Z",
     "iopub.status.idle": "2022-08-10T07:57:19.436944Z",
     "shell.execute_reply": "2022-08-10T07:57:19.436688Z",
     "shell.execute_reply.started": "2022-08-10T07:57:19.436662Z"
    },
    "papermill": {
     "duration": null,
     "end_time": null,
     "exception": null,
     "start_time": null,
     "status": "pending"
    },
    "tags": []
   },
   "outputs": [],
   "source": [
    "diabetes_proportion = df.diabetes.mean()*100\n",
    "diabetes_proportion"
   ]
  },
  {
   "cell_type": "code",
   "execution_count": null,
   "id": "5208d55c",
   "metadata": {
    "execution": {
     "iopub.status.busy": "2022-08-10T07:57:19.438574Z",
     "iopub.status.idle": "2022-08-10T07:57:19.439022Z",
     "shell.execute_reply": "2022-08-10T07:57:19.438803Z",
     "shell.execute_reply.started": "2022-08-10T07:57:19.438782Z"
    },
    "papermill": {
     "duration": null,
     "end_time": null,
     "exception": null,
     "start_time": null,
     "status": "pending"
    },
    "tags": []
   },
   "outputs": [],
   "source": [
    "handicap_proportion = df.handicap.mean()*100\n",
    "handicap_proportion"
   ]
  },
  {
   "cell_type": "code",
   "execution_count": null,
   "id": "e4c268e3",
   "metadata": {
    "execution": {
     "iopub.status.busy": "2022-08-10T07:57:19.440230Z",
     "iopub.status.idle": "2022-08-10T07:57:19.440699Z",
     "shell.execute_reply": "2022-08-10T07:57:19.440521Z",
     "shell.execute_reply.started": "2022-08-10T07:57:19.440501Z"
    },
    "papermill": {
     "duration": null,
     "end_time": null,
     "exception": null,
     "start_time": null,
     "status": "pending"
    },
    "tags": []
   },
   "outputs": [],
   "source": [
    "colors = ['brown', 'red', 'pink', 'green']\n",
    "locations = [1, 2, 3, 4]\n",
    "heights = [hypertension_proportion, diabetes_proportion, alcoholism_proportion, handicap_proportion]\n",
    "labels = ['Hypertension', 'Diabetes', 'Alcoholism', 'Handicap']\n",
    "\n",
    "plt.bar(locations,heights,color=colors, alpha=0.7);\n",
    "plt.title('Rate of Disease Incidents')\n",
    "plt.xlabel('Disease', fontsize=18)\n",
    "plt.ylabel('Rate', fontsize=18)\n",
    "plt.xticks(locations, labels);"
   ]
  },
  {
   "cell_type": "markdown",
   "id": "a5e480d3",
   "metadata": {
    "papermill": {
     "duration": null,
     "end_time": null,
     "exception": null,
     "start_time": null,
     "status": "pending"
    },
    "tags": []
   },
   "source": [
    "><p>Many patients had Hypertension, followed by diabetes. Alcoholism followed closely and lastly minimal patients were handicapped</p>"
   ]
  },
  {
   "cell_type": "markdown",
   "id": "4e4d8c06",
   "metadata": {
    "papermill": {
     "duration": null,
     "end_time": null,
     "exception": null,
     "start_time": null,
     "status": "pending"
    },
    "tags": []
   },
   "source": [
    "<a id='conclusions'></a>\n",
    "## Conclusions\n",
    "<h3>Findings</h3>\n",
    "    <ol>\n",
    "        <li>For question 1, 79.8% of the patients showed up for their scheduled appointments against the 20.2% who did not.</li>\n",
    "        <li>In question 2, there are many females visting the hospital than males. The number of females and males who showed up for their appointments is almost similar.</li>\n",
    "    <li>51% of the female showed up for their appointments compared to 28% of their male counterparts</li>\n",
    "        <li>The adults and the aged highly showed up for their appointments unlike the children and teenagers.</li>\n",
    "        <li>Hypertension was most prevalent in the patients, followed by diabetes, then alcoholism and handicap the least</li>\n",
    "      </ol>\n",
    "  \n",
    "## Limitations\n",
    "><ol><li>The dataset captured some ages of 0 which is mathematically impractible.</li>\n",
    "    <li>There were more females than males showing an underepresenation of males in the dataset</li>\n",
    "</ol>"
   ]
  },
  {
   "cell_type": "markdown",
   "id": "5097396a",
   "metadata": {
    "papermill": {
     "duration": null,
     "end_time": null,
     "exception": null,
     "start_time": null,
     "status": "pending"
    },
    "tags": []
   },
   "source": [
    "## References\n",
    "<p>https://www.kaggle.com/code/mostafarefaatm/medical-appointment-no-show</p>\n",
    "<p>https://www.kaggle.com/code/lucasfrancisco/starter-medical-appointment-no-shows-f1e029d1-c"
   ]
  },
  {
   "cell_type": "code",
   "execution_count": null,
   "id": "b02ca142",
   "metadata": {
    "execution": {
     "iopub.status.busy": "2022-08-10T07:57:19.442335Z",
     "iopub.status.idle": "2022-08-10T07:57:19.442704Z",
     "shell.execute_reply": "2022-08-10T07:57:19.442543Z",
     "shell.execute_reply.started": "2022-08-10T07:57:19.442526Z"
    },
    "papermill": {
     "duration": null,
     "end_time": null,
     "exception": null,
     "start_time": null,
     "status": "pending"
    },
    "tags": []
   },
   "outputs": [],
   "source": [
    "from subprocess import call\n",
    "call(['python', '-m', 'nbconvert', 'Investigate_a_Dataset.ipynb'])"
   ]
  },
  {
   "cell_type": "markdown",
   "id": "d1232d9e",
   "metadata": {
    "papermill": {
     "duration": null,
     "end_time": null,
     "exception": null,
     "start_time": null,
     "status": "pending"
    },
    "tags": []
   },
   "source": []
  }
 ],
 "metadata": {
  "kernelspec": {
   "display_name": "Python 3",
   "language": "python",
   "name": "python3"
  },
  "language_info": {
   "codemirror_mode": {
    "name": "ipython",
    "version": 3
   },
   "file_extension": ".py",
   "mimetype": "text/x-python",
   "name": "python",
   "nbconvert_exporter": "python",
   "pygments_lexer": "ipython3",
   "version": "3.7.12"
  },
  "papermill": {
   "default_parameters": {},
   "duration": 8.884134,
   "end_time": "2022-09-26T07:44:52.951791",
   "environment_variables": {},
   "exception": true,
   "input_path": "__notebook__.ipynb",
   "output_path": "__notebook__.ipynb",
   "parameters": {},
   "start_time": "2022-09-26T07:44:44.067657",
   "version": "2.3.4"
  }
 },
 "nbformat": 4,
 "nbformat_minor": 5
}
